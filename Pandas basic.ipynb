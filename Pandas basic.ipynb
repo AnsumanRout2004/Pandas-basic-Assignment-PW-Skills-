{
 "cells": [
  {
   "cell_type": "code",
   "execution_count": null,
   "id": "52e1b75e-6cda-4df0-add1-c283277bf2cb",
   "metadata": {},
   "outputs": [],
   "source": [
    "import pandas as pd\n",
    "\n",
    "# Q1: Create a Pandas Series with specific values\n",
    "series_q1 = pd.Series([4, 8, 15, 16, 23, 42])\n",
    "print(\"Q1: Pandas Series\")\n",
    "print(series_q1)\n",
    "\n",
    "\n",
    "\n",
    "\n",
    "\n",
    "\n",
    "\n",
    "\n",
    "# Q7: Create DataFrame using multiple Series\n",
    "series1 = pd.Series([1, 2, 3, 4], name=\"Column1\")\n",
    "series2 = pd.Series([10, 20, 30, 40], name=\"Column2\")\n",
    "df_q7 = pd.DataFrame({\"Column1\": series1, \"Column2\": series2})\n",
    "print(\"\\nQ7: DataFrame created using multiple Series\")\n",
    "print(df_q7)\n"
   ]
  },
  {
   "cell_type": "code",
   "execution_count": null,
   "id": "bd4efc71-1d50-42d6-a8cf-e76ddf0c128b",
   "metadata": {},
   "outputs": [],
   "source": [
    "\n",
    "# Q2: Create a Pandas Series from a list\n",
    "list_q2 = [1, 2, 3, 4, 5, 6, 7, 8, 9, 10]\n",
    "series_q2 = pd.Series(list_q2)\n",
    "print(\"\\nQ2: Pandas Series from a list\")\n",
    "print(series_q2)"
   ]
  },
  {
   "cell_type": "code",
   "execution_count": null,
   "id": "766c598b-aad4-406a-9605-c7e4b973f412",
   "metadata": {},
   "outputs": [],
   "source": [
    "# Q3: Explanation of DataFrame vs Series with example\n",
    "print(\"\\nQ4: What is a DataFrame?\")\n",
    "print(\"A DataFrame is a 2D labeled data structure in Pandas, like a table.\")\n",
    "print(\"A Series is a 1D labeled array, similar to a column in a table.\")\n",
    "\n",
    "# Example\n",
    "series_example = pd.Series([10, 20, 30], name=\"Example Series\")\n",
    "df_example = pd.DataFrame({\"Column1\": [10, 20, 30], \"Column2\": [40, 50, 60]})\n",
    "print(\"\\nExample Series:\")\n",
    "print(series_example)\n",
    "print(\"\\nExample DataFrame:\")\n",
    "print(df_example)"
   ]
  },
  {
   "cell_type": "code",
   "execution_count": null,
   "id": "5e822da9-7d03-4daa-9365-69d94f4d550d",
   "metadata": {},
   "outputs": [],
   "source": [
    "\n",
    "# Q4: Common functions in Pandas\n",
    "print(\"\\nQ5: Common Pandas Functions\")\n",
    "df = pd.DataFrame({\"A\": [1, 2, 3, 4], \"B\": [10, 20, 30, 40]})\n",
    "print(\"Example DataFrame before applying .mean():\")\n",
    "print(df)\n",
    "print(\"\\nMean of each column:\")\n",
    "print(df.mean())"
   ]
  },
  {
   "cell_type": "code",
   "execution_count": null,
   "id": "7831a307-71bd-402c-8bda-6f3f1b8d8368",
   "metadata": {},
   "outputs": [],
   "source": []
  },
  {
   "cell_type": "code",
   "execution_count": null,
   "id": "faba6a7a-4b11-41f5-8512-1bef32213d96",
   "metadata": {},
   "outputs": [],
   "source": []
  },
  {
   "cell_type": "code",
   "execution_count": null,
   "id": "277fe8b1-d2fd-4935-8b3d-7cc0de3186f2",
   "metadata": {},
   "outputs": [],
   "source": []
  },
  {
   "cell_type": "code",
   "execution_count": null,
   "id": "d2267d5f-3118-4174-ac83-3bc3bb2ff059",
   "metadata": {},
   "outputs": [],
   "source": []
  },
  {
   "cell_type": "code",
   "execution_count": null,
   "id": "19600f2f-470e-4b18-839f-a817a6fc8d12",
   "metadata": {},
   "outputs": [],
   "source": []
  },
  {
   "cell_type": "code",
   "execution_count": null,
   "id": "b52b872b-656d-4057-ba10-f7b52e1ff3f0",
   "metadata": {},
   "outputs": [],
   "source": []
  },
  {
   "cell_type": "code",
   "execution_count": null,
   "id": "6cfae956-ccae-498f-a903-068d32ec92c9",
   "metadata": {},
   "outputs": [],
   "source": []
  },
  {
   "cell_type": "code",
   "execution_count": null,
   "id": "f252e90e-5db5-452b-aa32-d998f5f58fa3",
   "metadata": {},
   "outputs": [],
   "source": []
  },
  {
   "cell_type": "code",
   "execution_count": null,
   "id": "d4557ac4-d2d6-46a7-9c6b-f633f6a54a4c",
   "metadata": {},
   "outputs": [],
   "source": []
  },
  {
   "cell_type": "code",
   "execution_count": null,
   "id": "23549e37-8c60-41e0-9f17-e2e60711736a",
   "metadata": {},
   "outputs": [],
   "source": []
  },
  {
   "cell_type": "code",
   "execution_count": null,
   "id": "50d99561-be16-48d0-9703-219eee9f00bf",
   "metadata": {},
   "outputs": [],
   "source": []
  },
  {
   "cell_type": "code",
   "execution_count": null,
   "id": "c7d16d75-c576-4d03-b15f-fdb78bcfb703",
   "metadata": {},
   "outputs": [],
   "source": []
  },
  {
   "cell_type": "code",
   "execution_count": null,
   "id": "90b013e2-4e43-4e20-b071-cc668cee9305",
   "metadata": {},
   "outputs": [],
   "source": []
  },
  {
   "cell_type": "code",
   "execution_count": null,
   "id": "bd7248a7-c1d9-4f98-a432-52dcb6696f22",
   "metadata": {},
   "outputs": [],
   "source": []
  },
  {
   "cell_type": "code",
   "execution_count": null,
   "id": "5b3b75a2-1ef4-46e9-8ffe-7a11c7431b29",
   "metadata": {},
   "outputs": [],
   "source": []
  },
  {
   "cell_type": "code",
   "execution_count": null,
   "id": "329cbdb2-2bed-45bd-aac4-5c9caeea23af",
   "metadata": {},
   "outputs": [],
   "source": []
  },
  {
   "cell_type": "code",
   "execution_count": null,
   "id": "b7d1b661-fda0-4fe9-a7ee-37c2ebba042b",
   "metadata": {},
   "outputs": [],
   "source": []
  },
  {
   "cell_type": "code",
   "execution_count": null,
   "id": "429f1b0e-5103-4d74-851f-dc91aa5676bd",
   "metadata": {},
   "outputs": [],
   "source": []
  },
  {
   "cell_type": "code",
   "execution_count": null,
   "id": "7bacfc22-de87-44fd-adcf-cad418e2b362",
   "metadata": {},
   "outputs": [],
   "source": []
  },
  {
   "cell_type": "code",
   "execution_count": null,
   "id": "32577ee2-2139-4b5f-90c7-7c9e500d36b7",
   "metadata": {},
   "outputs": [],
   "source": []
  },
  {
   "cell_type": "code",
   "execution_count": null,
   "id": "42c87a73-441f-4188-9fcb-eba2ce5eccac",
   "metadata": {},
   "outputs": [],
   "source": []
  }
 ],
 "metadata": {
  "kernelspec": {
   "display_name": "Python [conda env:base] *",
   "language": "python",
   "name": "conda-base-py"
  },
  "language_info": {
   "codemirror_mode": {
    "name": "ipython",
    "version": 3
   },
   "file_extension": ".py",
   "mimetype": "text/x-python",
   "name": "python",
   "nbconvert_exporter": "python",
   "pygments_lexer": "ipython3",
   "version": "3.11.7"
  }
 },
 "nbformat": 4,
 "nbformat_minor": 5
}
